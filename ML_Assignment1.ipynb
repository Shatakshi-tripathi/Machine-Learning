{
  "nbformat": 4,
  "nbformat_minor": 0,
  "metadata": {
    "colab": {
      "provenance": []
    },
    "kernelspec": {
      "name": "python3",
      "display_name": "Python 3"
    },
    "language_info": {
      "name": "python"
    }
  },
  "cells": [
    {
      "cell_type": "markdown",
      "source": [
        "Q1: Questions on Basic NumPy Array"
      ],
      "metadata": {
        "id": "HSF1cM_Hxtsn"
      }
    },
    {
      "cell_type": "code",
      "source": [
        "#a) Reverse the NumPy array: arr = np.array([1, 2, 3, 6, 4, 5])\n",
        "import numpy as np\n",
        "arr = np.array([1, 2, 3, 6, 4, 5])\n",
        "reversed_arr = arr[::-1]\n",
        "print(\"Reversed Array:\", reversed_arr)"
      ],
      "metadata": {
        "colab": {
          "base_uri": "https://localhost:8080/"
        },
        "id": "bMHqtk7vx7AW",
        "outputId": "0bcc5f58-6d67-4a74-9f3e-7dde5f02b80d"
      },
      "execution_count": 1,
      "outputs": [
        {
          "output_type": "stream",
          "name": "stdout",
          "text": [
            "Reversed Array: [5 4 6 3 2 1]\n"
          ]
        }
      ]
    },
    {
      "cell_type": "code",
      "source": [
        "#b) Flatten the NumPy array using any two in-built methods\n",
        "array1 = np.array([[1, 2, 3], [2, 4, 5], [1, 2, 3]])\n",
        "# Method 1: Using flatten()\n",
        "flat1 = array1.flatten()\n",
        "print(\"Flattened using flatten():\", flat1)\n",
        "# Method 2: Using ravel()\n",
        "flat2 = array1.ravel()\n",
        "print(\"Flattened using ravel():\", flat2)"
      ],
      "metadata": {
        "colab": {
          "base_uri": "https://localhost:8080/"
        },
        "id": "4q48Kdb7yIR9",
        "outputId": "53bc881d-705d-4e2e-b58e-711114ae2f5f"
      },
      "execution_count": 2,
      "outputs": [
        {
          "output_type": "stream",
          "name": "stdout",
          "text": [
            "Flattened using flatten(): [1 2 3 2 4 5 1 2 3]\n",
            "Flattened using ravel(): [1 2 3 2 4 5 1 2 3]\n"
          ]
        }
      ]
    },
    {
      "cell_type": "code",
      "source": [
        "#(c) Compare the following NumPy arrays\n",
        "arr1 = np.array([[1, 2], [3, 4]])\n",
        "arr2 = np.array([[1, 2], [3, 4]])\n",
        "equal = np.array_equal(arr1, arr2)\n",
        "print(\"Are arr1 and arr2 equal?:\", equal)"
      ],
      "metadata": {
        "colab": {
          "base_uri": "https://localhost:8080/"
        },
        "id": "LNbB4OZnygcq",
        "outputId": "faba858b-e285-482c-c638-4cea1eea9ab3"
      },
      "execution_count": 3,
      "outputs": [
        {
          "output_type": "stream",
          "name": "stdout",
          "text": [
            "Are arr1 and arr2 equal?: True\n"
          ]
        }
      ]
    },
    {
      "cell_type": "code",
      "source": [
        "#d) Find the most frequent value and their index/indices\n",
        "#i)\n",
        "import numpy as np\n",
        "x = np.array([1, 2, 3, 4, 5, 1, 2, 1, 1, 1])\n",
        "values, counts = np.unique(x, return_counts=True)\n",
        "most_frequent = values[np.argmax(counts)]\n",
        "indices = np.where(x == most_frequent)[0]\n",
        "print(\"Most frequent in x:\", most_frequent)\n",
        "print(\"Indices:\", indices)\n",
        "#ii)\n",
        "y = np.array([1, 1, 1, 2, 3, 4, 2, 4, 3, 3])\n",
        "values, counts = np.unique(y, return_counts=True)\n",
        "most_frequent = values[np.argmax(counts)]\n",
        "indices = np.where(y == most_frequent)[0]\n",
        "print(\"Most frequent in y:\", most_frequent)\n",
        "print(\"Indices:\", indices)"
      ],
      "metadata": {
        "colab": {
          "base_uri": "https://localhost:8080/"
        },
        "id": "0Rv1nM32yq50",
        "outputId": "4e748ab2-aad8-4bf6-eaf8-a2892f8b2311"
      },
      "execution_count": 5,
      "outputs": [
        {
          "output_type": "stream",
          "name": "stdout",
          "text": [
            "Most frequent in x: 1\n",
            "Indices: [0 5 7 8 9]\n",
            "Most frequent in y: 1\n",
            "Indices: [0 1 2]\n"
          ]
        }
      ]
    },
    {
      "cell_type": "code",
      "source": [
        "#e) Operations on Matrix\n",
        "gfg = np.matrix('[4, 1, 9; 12, 3, 1; 4, 5, 6]')\n",
        "#i. Sum of all elements\n",
        "total_sum = np.sum(gfg)\n",
        "print(\"Total Sum:\", total_sum)\n",
        "#ii. Row-wise sum\n",
        "row_sum = np.sum(gfg, axis=1)\n",
        "print(\"Row-wise Sum:\\n\", row_sum)\n",
        "#iii. Column-wise sum\n",
        "col_sum = np.sum(gfg, axis=0)\n",
        "print(\"Column-wise Sum:\\n\", col_sum)"
      ],
      "metadata": {
        "colab": {
          "base_uri": "https://localhost:8080/"
        },
        "id": "L1IvuzE8ztLg",
        "outputId": "d1480a65-d490-4c27-f255-a6ffbd6deef1"
      },
      "execution_count": 9,
      "outputs": [
        {
          "output_type": "stream",
          "name": "stdout",
          "text": [
            "Total Sum: 45\n",
            "Row-wise Sum:\n",
            " [[14]\n",
            " [16]\n",
            " [15]]\n",
            "Column-wise Sum:\n",
            " [[20  9 16]]\n"
          ]
        }
      ]
    },
    {
      "cell_type": "code",
      "source": [
        "#f) Operations on Matrix\n",
        "n_array = np.array([[55, 25, 15],\n",
        "                    [30, 44, 2],\n",
        "                    [11, 45, 77]])\n",
        "#i. Sum of diagonal elements\n",
        "diag_sum = np.trace(n_array)\n",
        "print(\"Diagonal Sum:\", diag_sum)\n",
        "#ii. Eigenvalues\n",
        "eigen_values = np.linalg.eigvals(n_array)\n",
        "print(\"Eigenvalues:\", eigen_values)\n",
        "#iii. Eigenvectors\n",
        "eigen_values, eigen_vectors = np.linalg.eig(n_array)\n",
        "print(\"Eigenvectors:\\n\", eigen_vectors)\n",
        "#iv. Inverse of matrix\n",
        "inverse = np.linalg.inv(n_array)\n",
        "print(\"Inverse:\\n\", inverse)\n",
        "#v. Determinant\n",
        "det = np.linalg.det(n_array)\n",
        "print(\"Determinant:\", det)\n"
      ],
      "metadata": {
        "colab": {
          "base_uri": "https://localhost:8080/"
        },
        "id": "Pq_8QmXG05yn",
        "outputId": "6042dd7b-5e5a-4bbe-d780-8d9c15157562"
      },
      "execution_count": 14,
      "outputs": [
        {
          "output_type": "stream",
          "name": "stdout",
          "text": [
            "Diagonal Sum: 176\n",
            "Eigenvalues: [98.16835147 28.097044   49.73460452]\n",
            "Eigenvectors:\n",
            " [[ 0.4574917   0.34637121 -0.15017693]\n",
            " [ 0.28447814 -0.72784061 -0.4852124 ]\n",
            " [ 0.84248058  0.59184038  0.8614034 ]]\n",
            "Inverse:\n",
            " [[ 0.02404141 -0.00911212 -0.00444671]\n",
            " [-0.01667882  0.02966905  0.0024785 ]\n",
            " [ 0.00631287 -0.01603732  0.01217379]]\n",
            "Determinant: 137180.0000000001\n"
          ]
        }
      ]
    },
    {
      "cell_type": "code",
      "source": [
        "#g) Matrix Multiplication and Covariance\n",
        "#i. Multiply and find covariance\n",
        "import numpy as np\n",
        "p1 = np.array([[1, 2], [2, 3]])\n",
        "q1 = np.array([[4, 5], [6, 7]])\n",
        "product1 = np.dot(p1, q1)\n",
        "cov1 = np.cov(p1.flatten(), q1.flatten())\n",
        "print(\"Product (p1 × q1):\\n\", product1)\n",
        "print(\"Covariance between p1 and q1:\\n\", cov1)\n",
        "#ii. Multiply and find covariance\n",
        "p2 = np.array([[1, 2], [2, 3], [4, 5]])\n",
        "q2 = np.array([[4, 5, 1], [6, 7, 2]])\n",
        "product2 = np.dot(p2, q2)\n",
        "cov2 = np.cov(p2.flatten(), q2.flatten())\n",
        "print(\"Product (p2 × q2):\\n\", product2)\n",
        "print(\"Covariance between p2 and q2:\\n\", cov2)"
      ],
      "metadata": {
        "colab": {
          "base_uri": "https://localhost:8080/"
        },
        "id": "k9lFwIPX1nYA",
        "outputId": "2f4724f3-eb74-402f-fc67-cbdc0d2ba58f"
      },
      "execution_count": 16,
      "outputs": [
        {
          "output_type": "stream",
          "name": "stdout",
          "text": [
            "Product (p1 × q1):\n",
            " [[16 19]\n",
            " [26 31]]\n",
            "Covariance between p1 and q1:\n",
            " [[0.66666667 1.        ]\n",
            " [1.         1.66666667]]\n",
            "Product (p2 × q2):\n",
            " [[16 19  5]\n",
            " [26 31  8]\n",
            " [46 55 14]]\n",
            "Covariance between p2 and q2:\n",
            " [[2.16666667 0.23333333]\n",
            " [0.23333333 5.36666667]]\n"
          ]
        }
      ]
    },
    {
      "cell_type": "code",
      "source": [
        "#h) Inner, Outer, and Cartesian Product\n",
        "x = np.array([[2, 3, 4], [3, 2, 9]])\n",
        "y = np.array([[1, 5, 0], [5, 10, 3]])\n",
        "#i. Inner Product\n",
        "inner = np.inner(x, y)\n",
        "print(\"Inner Product:\\n\", inner)\n",
        "#ii. Outer Product\n",
        "outer = np.outer(x, y)\n",
        "print(\"Outer Product shape:\", outer.shape)\n",
        "#iii. Cartesian Product\n",
        "from itertools import product\n",
        "cartesian = np.array(list(product(x.flatten(), y.flatten())))\n",
        "print(\"Cartesian Product:\\n\", cartesian)"
      ],
      "metadata": {
        "colab": {
          "base_uri": "https://localhost:8080/"
        },
        "id": "hcY50pBY2oP9",
        "outputId": "751a8ae5-cf31-40a0-b550-aab642d884fe"
      },
      "execution_count": 20,
      "outputs": [
        {
          "output_type": "stream",
          "name": "stdout",
          "text": [
            "Inner Product:\n",
            " [[17 52]\n",
            " [13 62]]\n",
            "Outer Product shape: (6, 6)\n",
            "Cartesian Product:\n",
            " [[ 2  1]\n",
            " [ 2  5]\n",
            " [ 2  0]\n",
            " [ 2  5]\n",
            " [ 2 10]\n",
            " [ 2  3]\n",
            " [ 3  1]\n",
            " [ 3  5]\n",
            " [ 3  0]\n",
            " [ 3  5]\n",
            " [ 3 10]\n",
            " [ 3  3]\n",
            " [ 4  1]\n",
            " [ 4  5]\n",
            " [ 4  0]\n",
            " [ 4  5]\n",
            " [ 4 10]\n",
            " [ 4  3]\n",
            " [ 3  1]\n",
            " [ 3  5]\n",
            " [ 3  0]\n",
            " [ 3  5]\n",
            " [ 3 10]\n",
            " [ 3  3]\n",
            " [ 2  1]\n",
            " [ 2  5]\n",
            " [ 2  0]\n",
            " [ 2  5]\n",
            " [ 2 10]\n",
            " [ 2  3]\n",
            " [ 9  1]\n",
            " [ 9  5]\n",
            " [ 9  0]\n",
            " [ 9  5]\n",
            " [ 9 10]\n",
            " [ 9  3]]\n"
          ]
        }
      ]
    },
    {
      "cell_type": "code",
      "source": [
        "#Q2: Based on NumPy Mathematics and Statistics\n",
        "#a)\n",
        "import numpy as np\n",
        "array = np.array([[1, -2, 3], [-4, 5, -6]])\n",
        "\n",
        "abs_array = np.abs(array)\n",
        "print(\"Absolute Values:\\n\", abs_array)\n",
        "\n",
        "flattened = array.flatten()\n",
        "p_flat = np.percentile(flattened, [25, 50, 75])\n",
        "print(\"Percentiles (Flattened):\", p_flat)\n",
        "\n",
        "p_col = np.percentile(array, [25, 50, 75], axis=0)\n",
        "print(\"Percentiles (Column-wise):\\n\", p_col)\n",
        "\n",
        "p_row = np.percentile(array, [25, 50, 75], axis=1)\n",
        "print(\"Percentiles (Row-wise):\\n\", p_row)\n",
        "\n",
        "print(\"Mean (flattened):\", np.mean(flattened))\n",
        "print(\"Median (flattened):\", np.median(flattened))\n",
        "print(\"Std Dev (flattened):\", np.std(flattened))\n",
        "\n",
        "print(\"Mean (columns):\", np.mean(array, axis=0))\n",
        "print(\"Median (columns):\", np.median(array, axis=0))\n",
        "print(\"Std Dev (columns):\", np.std(array, axis=0))\n",
        "\n",
        "#b)\n",
        "a = np.array([-1.8, -1.6, -0.5, 0.5, 1.6, 1.8, 3.0])\n",
        "print(\"Floor:\", np.floor(a))\n",
        "print(\"Ceil:\", np.ceil(a))\n",
        "print(\"Truncated:\", np.trunc(a))\n",
        "print(\"Rounded:\", np.round(a))"
      ],
      "metadata": {
        "colab": {
          "base_uri": "https://localhost:8080/"
        },
        "id": "9eQ8Bwan4_Xe",
        "outputId": "b42d1bbc-f715-469a-cae3-9f04dd12c3d5"
      },
      "execution_count": 33,
      "outputs": [
        {
          "output_type": "stream",
          "name": "stdout",
          "text": [
            "Absolute Values:\n",
            " [[1 2 3]\n",
            " [4 5 6]]\n",
            "Percentiles (Flattened): [-3.5 -0.5  2.5]\n",
            "Percentiles (Column-wise):\n",
            " [[-2.75 -0.25 -3.75]\n",
            " [-1.5   1.5  -1.5 ]\n",
            " [-0.25  3.25  0.75]]\n",
            "Percentiles (Row-wise):\n",
            " [[-0.5 -5. ]\n",
            " [ 1.  -4. ]\n",
            " [ 2.   0.5]]\n",
            "Mean (flattened): -0.5\n",
            "Median (flattened): -0.5\n",
            "Std Dev (flattened): 3.8622100754188224\n",
            "Mean (columns): [-1.5  1.5 -1.5]\n",
            "Median (columns): [-1.5  1.5 -1.5]\n",
            "Std Dev (columns): [2.5 3.5 4.5]\n",
            "Floor: [-2. -2. -1.  0.  1.  1.  3.]\n",
            "Ceil: [-1. -1. -0.  1.  2.  2.  3.]\n",
            "Truncated: [-1. -1. -0.  0.  1.  1.  3.]\n",
            "Rounded: [-2. -2. -0.  0.  2.  2.  3.]\n"
          ]
        }
      ]
    },
    {
      "cell_type": "code",
      "source": [
        "#Q3: Based on Searching and Sorting\n",
        "#a)\n",
        "import numpy as np\n",
        "array = np.array([10, 52, 62, 16, 16, 54, 453])\n",
        "sorted_array = np.sort(array)\n",
        "print(\"Sorted Array:\", sorted_array)\n",
        "sorted_indices = np.argsort(array)\n",
        "print(\"Indices of Sorted Array:\", sorted_indices)\n",
        "smallest_4 = np.sort(array)[:4]\n",
        "print(\"4 Smallest Elements:\", smallest_4)\n",
        "largest_5 = np.sort(array)[-5:]\n",
        "print(\"5 Largest Elements:\", largest_5)\n",
        "#b)\n",
        "array = np.array([1.0, 1.2, 2.2, 2.0, 3.0, 2.0])\n",
        "int_elements = array[array == array.astype(int)]\n",
        "print(\"Integer Elements Only:\", int_elements)\n",
        "float_elements = array[array != array.astype(int)]\n",
        "print(\"Float Elements Only:\", float_elements)\n"
      ],
      "metadata": {
        "colab": {
          "base_uri": "https://localhost:8080/"
        },
        "id": "YGYLCZMA6dH7",
        "outputId": "21a897ef-b5d4-4043-af58-8454672e98c9"
      },
      "execution_count": 39,
      "outputs": [
        {
          "output_type": "stream",
          "name": "stdout",
          "text": [
            "Sorted Array: [ 10  16  16  52  54  62 453]\n",
            "Indices of Sorted Array: [0 3 4 1 5 2 6]\n",
            "4 Smallest Elements: [10 16 16 52]\n",
            "5 Largest Elements: [ 16  52  54  62 453]\n",
            "Integer Elements Only: [1. 2. 3. 2.]\n",
            "Float Elements Only: [1.2 2.2]\n"
          ]
        }
      ]
    },
    {
      "cell_type": "code",
      "source": [
        "#Q4\n",
        "import cv2\n",
        "import numpy as np\n",
        "def img_to_array(path, save_path=\"image_array.txt\"):\n",
        "    img_color = cv2.imread(path, cv2.IMREAD_COLOR)\n",
        "    img_gray = cv2.imread(path, cv2.IMREAD_GRAYSCALE)\n",
        "    if img_color is None:\n",
        "        print(\"Image not found or unsupported format.\")\n",
        "        return\n",
        "    if img_gray.ndim == 2:\n",
        "        np.savetxt(save_path, img_gray, fmt='%d')\n",
        "        print(\"Grayscale image saved as text at\", save_path)\n",
        "    else:\n",
        "        img_rgb = cv2.cvtColor(img_color, cv2.COLOR_BGR2RGB)\n",
        "        np.savetxt(save_path, img_rgb.reshape(-1, 3), fmt='%d')\n",
        "        print(\"RGB image saved as flattened text at\", save_path)\n",
        "\n",
        "\n",
        "img_to_array(\"/content/Screenshot 2025-07-17 101726.png\")\n",
        "gray_image_array = np.loadtxt(\"image_array.txt\", dtype=int)\n",
        "print(\"Grayscale Image Array:\\n\", gray_image_array)\n",
        "\n",
        "rgb_image_array = np.loadtxt(\"image_array.txt\", dtype=int).reshape(-1, 3)\n",
        "print(\"RGB Image Array (flattened):\\n\", rgb_image_array)\n"
      ],
      "metadata": {
        "colab": {
          "base_uri": "https://localhost:8080/"
        },
        "id": "CvR95xHt7CdS",
        "outputId": "e0a1446b-32da-4de3-c501-8e675aa4b66f"
      },
      "execution_count": 45,
      "outputs": [
        {
          "output_type": "stream",
          "name": "stdout",
          "text": [
            "Grayscale image saved as text at image_array.txt\n",
            "Grayscale Image Array:\n",
            " [[ 99  99  99 ...  99  99  99]\n",
            " [ 53  53  53 ...  53  53  53]\n",
            " [255 255 255 ...  44  44  44]\n",
            " ...\n",
            " [255 255 255 ...  44  44  44]\n",
            " [255 255 255 ...  44  44  44]\n",
            " [255 255 255 ...  44  44  44]]\n",
            "RGB Image Array (flattened):\n",
            " [[99 99 99]\n",
            " [99 99 99]\n",
            " [99 99 99]\n",
            " ...\n",
            " [44 44 44]\n",
            " [44 44 44]\n",
            " [44 44 44]]\n"
          ]
        }
      ]
    }
  ]
}